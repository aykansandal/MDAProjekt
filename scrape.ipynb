{
 "cells": [
  {
   "cell_type": "markdown",
   "metadata": {},
   "source": [
    "# 1) DATENSAMMLUNG"
   ]
  },
  {
   "cell_type": "code",
   "execution_count": 3,
   "metadata": {},
   "outputs": [],
   "source": [
    "from bs4 import BeautifulSoup\n",
    "import requests\n",
    "import pandas as pd\n",
    "headers = ['brand','model', 'price', 'year', 'transmission', 'fuelConsumption', 'tax', 'mileage', 'fueltype', 'color', 'variant']\n",
    "df = pd.DataFrame(columns = headers)\n"
   ]
  },
  {
   "cell_type": "code",
   "execution_count": null,
   "metadata": {},
   "outputs": [],
   "source": [
    "colors = ['beige', 'black', 'blue', 'bronze', 'brown', 'gold', 'green', 'grey', 'orange', 'purple', 'red', 'silver', 'turquoise', 'white', 'yellow']\n",
    "cars = ['toyota', 'volvo', 'audi', 'bmw', 'citroen', 'ford', 'honda', 'hyundai', 'kia', 'nissan']\n",
    "url = \"https://www.exchangeandmart.co.uk/used-cars-for-sale/\""
   ]
  },
  {
   "cell_type": "code",
   "execution_count": null,
   "metadata": {},
   "outputs": [],
   "source": [
    "for color in colors:\n",
    "    for pageNumber in range(1,100):\n",
    "        for car in cars:\n",
    "            currentUrl = url + car + \"/any-distance-from-se15-1la/colour-\" + color + '/page' + str(pageNumber)\n",
    "            page = requests.get(currentUrl)\n",
    "            soup = BeautifulSoup(page.text, 'html')\n",
    "            items = soup.find_all('div', attrs={\"class\" : \"result-item\"})\n",
    "\n",
    "            if items[0].find('span', attrs={\"class\" : \"ttl_mk\"}) is None:\n",
    "                break\n",
    "            \n",
    "            for item in items:\n",
    "                brand = item.find('span', attrs={\"class\" : \"ttl_mk\"}).text\n",
    "                model = item.find('span', attrs={\"class\" : \"ttl_md\"}).text\n",
    "                price = item.find('span', attrs={\"class\" : \"price--primary\"}).text\n",
    "                variant = item.find('div', attrs={\"class\" : \"result-item__variant\"}).text\n",
    "                keyDetails = item.find_all('p', attrs={\"class\" : \"key-details__item\"})\n",
    "                if(len(keyDetails) < 6):\n",
    "                    continue\n",
    "                year = keyDetails[0].text\n",
    "                transmission = keyDetails[1].text\n",
    "                fuelConsumption = keyDetails[2].text\n",
    "                tax = keyDetails[3].text\n",
    "                mileage = keyDetails[4].text\n",
    "                fueltype = keyDetails[5].text\n",
    "                data = [brand, model, price, year, transmission, fuelConsumption, tax, mileage, fueltype, color, variant]\n",
    "                df.loc[len(df)-1] = data"
   ]
  },
  {
   "cell_type": "code",
   "execution_count": null,
   "metadata": {},
   "outputs": [],
   "source": [
    "df.to_csv('AllData.csv')\n",
    "groupedDFs = [v for k, v in df.groupby('brand')]\n",
    "for brandDF in groupedDFs:\n",
    "    brandDF.to_csv(''+brandDF.brand.iloc[0]+'.csv') "
   ]
  },
  {
   "cell_type": "markdown",
   "metadata": {},
   "source": [
    "# 2) DATENBEREINIGUNG"
   ]
  },
  {
   "cell_type": "markdown",
   "metadata": {},
   "source": [
    "**Was beschreiben die Daten?**"
   ]
  },
  {
   "cell_type": "markdown",
   "metadata": {},
   "source": [
    "**Warum sind die Daten relevant oder interessant?**"
   ]
  },
  {
   "cell_type": "markdown",
   "metadata": {},
   "source": [
    "**Welche Daten sind enthalten?**"
   ]
  },
  {
   "cell_type": "markdown",
   "metadata": {},
   "source": [
    "**Wie sind die Daten formatiert?**"
   ]
  },
  {
   "cell_type": "markdown",
   "metadata": {},
   "source": [
    "**Welche Schritte haben Sie unternommen, um die Daten zu bereinigen?**"
   ]
  },
  {
   "cell_type": "markdown",
   "metadata": {},
   "source": [
    "**Gibt es Ausreißer, Duplikate oder fehlende Werte?**"
   ]
  },
  {
   "cell_type": "markdown",
   "metadata": {},
   "source": [
    "**Gibt es Fehler im Datensatz?**"
   ]
  },
  {
   "cell_type": "markdown",
   "metadata": {},
   "source": [
    "**Sind die Daten konsistent?**"
   ]
  },
  {
   "cell_type": "markdown",
   "metadata": {},
   "source": [
    "**Welche Besonderheiten sind Ihnen aufgefallen?**"
   ]
  },
  {
   "cell_type": "code",
   "execution_count": 1,
   "metadata": {},
   "outputs": [],
   "source": [
    "import numpy as np\n",
    "import seaborn as sns\n",
    "import matplotlib.pyplot as plt\n",
    "from sklearn import metrics\n",
    "import statsmodels.api as sm"
   ]
  },
  {
   "cell_type": "code",
   "execution_count": 37,
   "metadata": {},
   "outputs": [
    {
     "name": "stdout",
     "output_type": "stream",
     "text": [
      "<class 'pandas.core.frame.DataFrame'>\n",
      "RangeIndex: 37147 entries, 0 to 37146\n",
      "Data columns (total 12 columns):\n",
      " #   Column           Non-Null Count  Dtype  \n",
      "---  ------           --------------  -----  \n",
      " 0   Unnamed: 0       37147 non-null  int64  \n",
      " 1   brand            37147 non-null  object \n",
      " 2   model            37147 non-null  object \n",
      " 3   price            37147 non-null  object \n",
      " 4   year             37056 non-null  float64\n",
      " 5   transmission     37147 non-null  object \n",
      " 6   fuelConsumption  37147 non-null  object \n",
      " 7   tax              37147 non-null  object \n",
      " 8   mileage          37147 non-null  object \n",
      " 9   fueltype         37147 non-null  object \n",
      " 10  color            37147 non-null  object \n",
      " 11  variant          36549 non-null  object \n",
      "dtypes: float64(1), int64(1), object(10)\n",
      "memory usage: 3.4+ MB\n"
     ]
    },
    {
     "data": {
      "text/plain": [
       "(37147, 12)"
      ]
     },
     "execution_count": 37,
     "metadata": {},
     "output_type": "execute_result"
    }
   ],
   "source": [
    "df= pd.read_csv('AllData.csv')\n",
    "df.info()\n",
    "df.shape"
   ]
  },
  {
   "cell_type": "code",
   "execution_count": 6,
   "metadata": {},
   "outputs": [
    {
     "data": {
      "text/html": [
       "<div>\n",
       "<style scoped>\n",
       "    .dataframe tbody tr th:only-of-type {\n",
       "        vertical-align: middle;\n",
       "    }\n",
       "\n",
       "    .dataframe tbody tr th {\n",
       "        vertical-align: top;\n",
       "    }\n",
       "\n",
       "    .dataframe thead th {\n",
       "        text-align: right;\n",
       "    }\n",
       "</style>\n",
       "<table border=\"1\" class=\"dataframe\">\n",
       "  <thead>\n",
       "    <tr style=\"text-align: right;\">\n",
       "      <th></th>\n",
       "      <th>Unnamed: 0</th>\n",
       "      <th>brand</th>\n",
       "      <th>model</th>\n",
       "      <th>price</th>\n",
       "      <th>year</th>\n",
       "      <th>transmission</th>\n",
       "      <th>fuelConsumption</th>\n",
       "      <th>tax</th>\n",
       "      <th>mileage</th>\n",
       "      <th>fueltype</th>\n",
       "      <th>color</th>\n",
       "      <th>variant</th>\n",
       "    </tr>\n",
       "  </thead>\n",
       "  <tbody>\n",
       "    <tr>\n",
       "      <th>0</th>\n",
       "      <td>-1</td>\n",
       "      <td>Toyota</td>\n",
       "      <td>Aygo</td>\n",
       "      <td>£20,430</td>\n",
       "      <td>2022.0</td>\n",
       "      <td>Automatic</td>\n",
       "      <td>56.5 mpg</td>\n",
       "      <td>Tax: £180</td>\n",
       "      <td>Mileage: 4,497</td>\n",
       "      <td>Petrol</td>\n",
       "      <td>beige</td>\n",
       "      <td>o X 1.0 VVT-i Exclusive 5dr Auto</td>\n",
       "    </tr>\n",
       "    <tr>\n",
       "      <th>1</th>\n",
       "      <td>0</td>\n",
       "      <td>Toyota</td>\n",
       "      <td>Aygo</td>\n",
       "      <td>£17,998</td>\n",
       "      <td>2023.0</td>\n",
       "      <td>Automatic</td>\n",
       "      <td>56.5 mpg</td>\n",
       "      <td>Tax: £180</td>\n",
       "      <td>Mileage: 2,345</td>\n",
       "      <td>Petrol</td>\n",
       "      <td>beige</td>\n",
       "      <td>o X 1.0 VVT-i Edge 5dr Auto</td>\n",
       "    </tr>\n",
       "    <tr>\n",
       "      <th>2</th>\n",
       "      <td>1</td>\n",
       "      <td>Toyota</td>\n",
       "      <td>Aygo</td>\n",
       "      <td>£14,225</td>\n",
       "      <td>2022.0</td>\n",
       "      <td>Manual</td>\n",
       "      <td>58.9 mpg</td>\n",
       "      <td>Tax: £180</td>\n",
       "      <td>Mileage: 36,729</td>\n",
       "      <td>Petrol</td>\n",
       "      <td>beige</td>\n",
       "      <td>o X 1.0 VVT-i Edge 5dr</td>\n",
       "    </tr>\n",
       "    <tr>\n",
       "      <th>3</th>\n",
       "      <td>2</td>\n",
       "      <td>Toyota</td>\n",
       "      <td>Aygo</td>\n",
       "      <td>£18,431</td>\n",
       "      <td>2023.0</td>\n",
       "      <td>Automatic</td>\n",
       "      <td>56.5 mpg</td>\n",
       "      <td>Tax: £180</td>\n",
       "      <td>Mileage: 3,620</td>\n",
       "      <td>Petrol</td>\n",
       "      <td>beige</td>\n",
       "      <td>o X 1.0 VVT-i Edge 5dr Auto</td>\n",
       "    </tr>\n",
       "    <tr>\n",
       "      <th>4</th>\n",
       "      <td>3</td>\n",
       "      <td>Toyota</td>\n",
       "      <td>Aygo</td>\n",
       "      <td>£17,159</td>\n",
       "      <td>2022.0</td>\n",
       "      <td>Manual</td>\n",
       "      <td>57.7 mpg</td>\n",
       "      <td>Tax: £180</td>\n",
       "      <td>Mileage: 4,000</td>\n",
       "      <td>Petrol</td>\n",
       "      <td>beige</td>\n",
       "      <td>o X 1.0 VVT-i Exclusive 5dr</td>\n",
       "    </tr>\n",
       "  </tbody>\n",
       "</table>\n",
       "</div>"
      ],
      "text/plain": [
       "   Unnamed: 0   brand  model    price    year transmission fuelConsumption  \\\n",
       "0          -1  Toyota   Aygo  £20,430  2022.0    Automatic        56.5 mpg   \n",
       "1           0  Toyota   Aygo  £17,998  2023.0    Automatic        56.5 mpg   \n",
       "2           1  Toyota   Aygo  £14,225  2022.0       Manual        58.9 mpg   \n",
       "3           2  Toyota   Aygo  £18,431  2023.0    Automatic        56.5 mpg   \n",
       "4           3  Toyota   Aygo  £17,159  2022.0       Manual        57.7 mpg   \n",
       "\n",
       "         tax          mileage fueltype  color  \\\n",
       "0  Tax: £180   Mileage: 4,497   Petrol  beige   \n",
       "1  Tax: £180   Mileage: 2,345   Petrol  beige   \n",
       "2  Tax: £180  Mileage: 36,729   Petrol  beige   \n",
       "3  Tax: £180   Mileage: 3,620   Petrol  beige   \n",
       "4  Tax: £180   Mileage: 4,000   Petrol  beige   \n",
       "\n",
       "                            variant  \n",
       "0  o X 1.0 VVT-i Exclusive 5dr Auto  \n",
       "1       o X 1.0 VVT-i Edge 5dr Auto  \n",
       "2            o X 1.0 VVT-i Edge 5dr  \n",
       "3       o X 1.0 VVT-i Edge 5dr Auto  \n",
       "4       o X 1.0 VVT-i Exclusive 5dr  "
      ]
     },
     "execution_count": 6,
     "metadata": {},
     "output_type": "execute_result"
    }
   ],
   "source": [
    "df.head()"
   ]
  },
  {
   "cell_type": "code",
   "execution_count": null,
   "metadata": {},
   "outputs": [],
   "source": [
    "#Formatting the price data / Bereinigung der Preisdaten\n",
    "df['price'] = df['price'].str.replace(',','')\n",
    "df['price'] = df['price'].str.replace('£','')\n",
    "df['price'] = pd.to_numeric(df['price'])\n",
    "#Formatting the year data \n",
    "df[\"year\"].dropna(inplace=True)\n",
    "df['year'] = df['year'].astype('int', errors='ignore')\n",
    "#Formatting the fuelConsumption data \n",
    "df['fuelConsumption'] = df['fuelConsumption'].str.replace(' mpg','')\n",
    "df['fuelConsumption'] = pd.to_numeric(df['fuelConsumption'])\n",
    "#Formatting the Tax data \n",
    "df['tax'] = df['tax'].str.replace('Tax: n/a','')\n",
    "df['tax'] = df['tax'].str.replace('Tax: £','')\n",
    "df['tax'] = pd.to_numeric(df['tax'])\n",
    "#Formatting the mileage data \n",
    "df['mileage'] = df['mileage'].str.replace(',','')\n",
    "df['mileage'] = df['mileage'].str.replace('Mileage: ','')\n",
    "#df['mileage'] = df['mileage'].str.replace('Mileage: Unknown','')\n",
    "df['mileage'] = df['mileage'].str.replace('Unknown','')\n",
    "df['mileage'] = pd.to_numeric(df['mileage'])"
   ]
  },
  {
   "cell_type": "code",
   "execution_count": 39,
   "metadata": {},
   "outputs": [
    {
     "name": "stdout",
     "output_type": "stream",
     "text": [
      "<class 'pandas.core.frame.DataFrame'>\n",
      "RangeIndex: 37147 entries, 0 to 37146\n",
      "Data columns (total 12 columns):\n",
      " #   Column           Non-Null Count  Dtype  \n",
      "---  ------           --------------  -----  \n",
      " 0   Unnamed: 0       37147 non-null  int64  \n",
      " 1   brand            37147 non-null  object \n",
      " 2   model            37147 non-null  object \n",
      " 3   price            37147 non-null  int64  \n",
      " 4   year             37056 non-null  float64\n",
      " 5   transmission     37147 non-null  object \n",
      " 6   fuelConsumption  37147 non-null  float64\n",
      " 7   tax              36646 non-null  float64\n",
      " 8   mileage          37136 non-null  float64\n",
      " 9   fueltype         37147 non-null  object \n",
      " 10  color            37147 non-null  object \n",
      " 11  variant          36549 non-null  object \n",
      "dtypes: float64(4), int64(2), object(6)\n",
      "memory usage: 3.4+ MB\n"
     ]
    },
    {
     "data": {
      "text/plain": [
       "(37147, 12)"
      ]
     },
     "execution_count": 39,
     "metadata": {},
     "output_type": "execute_result"
    }
   ],
   "source": [
    "df.head()\n",
    "df.info()\n",
    "df.shape"
   ]
  },
  {
   "cell_type": "code",
   "execution_count": 40,
   "metadata": {},
   "outputs": [
    {
     "data": {
      "text/plain": [
       "Unnamed: 0           0\n",
       "brand                0\n",
       "model                0\n",
       "price                0\n",
       "year                91\n",
       "transmission         0\n",
       "fuelConsumption      0\n",
       "tax                501\n",
       "mileage             11\n",
       "fueltype             0\n",
       "color                0\n",
       "variant            598\n",
       "dtype: int64"
      ]
     },
     "execution_count": 40,
     "metadata": {},
     "output_type": "execute_result"
    }
   ],
   "source": [
    "pd.isnull(df).sum()"
   ]
  },
  {
   "cell_type": "code",
   "execution_count": 41,
   "metadata": {},
   "outputs": [],
   "source": [
    "df[\"tax\"].fillna(0, inplace=True)\n",
    "df[\"mileage\"].fillna(df[\"mileage\"].mean(), inplace=True)\n",
    "df[\"year\"].fillna(df[\"year\"].mean(), inplace=True)\n",
    "df[\"variant\"].fillna(\"unknown variant\", inplace=True)"
   ]
  },
  {
   "cell_type": "code",
   "execution_count": 42,
   "metadata": {},
   "outputs": [
    {
     "data": {
      "text/plain": [
       "Unnamed: 0         0\n",
       "brand              0\n",
       "model              0\n",
       "price              0\n",
       "year               0\n",
       "transmission       0\n",
       "fuelConsumption    0\n",
       "tax                0\n",
       "mileage            0\n",
       "fueltype           0\n",
       "color              0\n",
       "variant            0\n",
       "dtype: int64"
      ]
     },
     "execution_count": 42,
     "metadata": {},
     "output_type": "execute_result"
    }
   ],
   "source": [
    "pd.isnull(df).sum()"
   ]
  }
 ],
 "metadata": {
  "kernelspec": {
   "display_name": "Python 3",
   "language": "python",
   "name": "python3"
  },
  "language_info": {
   "codemirror_mode": {
    "name": "ipython",
    "version": 3
   },
   "file_extension": ".py",
   "mimetype": "text/x-python",
   "name": "python",
   "nbconvert_exporter": "python",
   "pygments_lexer": "ipython3",
   "version": "3.11.5"
  }
 },
 "nbformat": 4,
 "nbformat_minor": 2
}
