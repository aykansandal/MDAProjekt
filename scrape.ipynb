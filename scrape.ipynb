{
 "cells": [
  {
   "cell_type": "markdown",
   "metadata": {},
   "source": [
    "# 1) DATENSAMMLUNG"
   ]
  },
  {
   "cell_type": "code",
   "execution_count": 55,
   "metadata": {},
   "outputs": [],
   "source": [
    "from bs4 import BeautifulSoup\n",
    "import requests\n",
    "import pandas as pd\n",
    "headers = ['brand','model', 'price', 'year', 'transmission', 'fuelConsumption', 'tax', 'mileage', 'fuelType', 'color', 'variant']\n",
    "df = pd.DataFrame(columns = headers)\n"
   ]
  },
  {
   "cell_type": "code",
   "execution_count": 56,
   "metadata": {},
   "outputs": [],
   "source": [
    "colors = ['beige', 'black', 'blue', 'bronze', 'brown', 'gold', 'green', 'grey', 'orange', 'purple', 'red', 'silver', 'turquoise', 'white', 'yellow']\n",
    "cars = ['toyota', 'volvo', 'audi', 'bmw', 'citroen', 'ford', 'honda', 'hyundai', 'kia', 'nissan']\n",
    "url = \"https://www.exchangeandmart.co.uk/used-cars-for-sale/\""
   ]
  },
  {
   "cell_type": "code",
   "execution_count": null,
   "metadata": {},
   "outputs": [],
   "source": [
    "for color in colors:\n",
    "    for pageNumber in range(1,100):\n",
    "        for car in cars:\n",
    "            currentUrl = url + car + \"/any-distance-from-se15-1la/colour-\" + color + '/page' + str(pageNumber)\n",
    "            page = requests.get(currentUrl)\n",
    "            soup = BeautifulSoup(page.text, 'html')\n",
    "            items = soup.find_all('div', attrs={\"class\" : \"result-item\"})\n",
    "\n",
    "            if items[0].find('span', attrs={\"class\" : \"ttl_mk\"}) is None:\n",
    "                break\n",
    "            \n",
    "            for item in items:\n",
    "                brand = item.find('span', attrs={\"class\" : \"ttl_mk\"}).text\n",
    "                model = item.find('span', attrs={\"class\" : \"ttl_md\"}).text\n",
    "                price = item.find('span', attrs={\"class\" : \"price--primary\"}).text\n",
    "                variant = item.find('div', attrs={\"class\" : \"result-item__variant\"}).text\n",
    "                keyDetails = item.find_all('p', attrs={\"class\" : \"key-details__item\"})\n",
    "                if(len(keyDetails) < 6):\n",
    "                    continue\n",
    "                year = keyDetails[0].text\n",
    "                transmission = keyDetails[1].text\n",
    "                fuelConsumption = keyDetails[2].text\n",
    "                tax = keyDetails[3].text\n",
    "                mileage = keyDetails[4].text\n",
    "                fueltype = keyDetails[5].text\n",
    "                data = [brand, model, price, year, transmission, fuelConsumption, tax, mileage, fueltype, color, variant]\n",
    "                df.loc[len(df)-1] = data"
   ]
  },
  {
   "cell_type": "code",
   "execution_count": null,
   "metadata": {},
   "outputs": [],
   "source": [
    "df.to_csv('AllData.csv')\n",
    "groupedDFs = [v for k, v in df.groupby('brand')]\n",
    "for brandDF in groupedDFs:\n",
    "    brandDF.to_csv(''+brandDF.brand.iloc[0]+'.csv') "
   ]
  },
  {
   "cell_type": "markdown",
   "metadata": {},
   "source": [
    "# 2) DATENBEREINIGUNG"
   ]
  },
  {
   "cell_type": "markdown",
   "metadata": {},
   "source": [
    "**1.Was beschreiben die Daten?**\n",
    "\n",
    "Wir können die auf der Website verfügbaren Daten über Autos scrapen. um einen Datensatz zu erstellen. Zu diesen Features der Daten gehören Marke, Modell, Preis, Jahr, Getriebe, Kraftstoffverbrauch, Steuer, Kilometerstand, Kraftstoffart, Farbe und Variante."
   ]
  },
  {
   "cell_type": "markdown",
   "metadata": {},
   "source": [
    "**2.Warum sind die Daten relevant oder interessant?**\n",
    "\n",
    "Die Relevanz oder das Interesse der Daten hängt vom Kontext der Nutzung ab. Hier sind vier mögliche Gründe, warum der zur Verfügung gestellte Datensatz über Autos als relevant oder interessant angesehen werden kann:\n",
    "\n",
    "* **Marktanalyse:** Die Daten könnten zur Analyse des Automarktes verwendet werden, um Preistrends, beliebte Modelle und den Einfluss von Faktoren wie Kraftstoffart oder Getriebe auf die Preisgestaltung zu verstehen.\n",
    "* **Entscheidungsfindung:** Personen, die Autos kaufen oder verkaufen möchten, können den Datensatz nutzen, um Entscheidungen auf der Grundlage historischer Preistrends, des Kilometerstandes und anderer Features zu treffen.\n",
    "* **Politik und Besteuerung:** Für Regierungen können die Daten nützlich sein, um die Steuerpolitik in Bezug auf Autos zu bewerten, insbesondere im Hinblick auf Faktoren wie Kraftstoffverbrauch oder Emissionen.\n",
    "* **Einblicke in die Automobilbranche:** Unternehmen der Automobilindustrie können die Daten nutzen, um Einblicke in die Präferenzen der Verbraucher, die Beliebtheit der Modelle und die Preisstrategien der Wettbewerber zu gewinnen."
   ]
  },
  {
   "cell_type": "markdown",
   "metadata": {},
   "source": [
    "**3.Welche Daten sind enthalten?**\n",
    "\n",
    "* Die Features über Autos sind Marke, Modell, Preis, Jahr, Getriebe, Kraftstoffverbrauch, Steuern, Kilometerstand, Kraftstofftyp, Farbe und Variante. \n",
    "\n",
    "* Einige von Features sind **kategorisch (oder qualitativ)**. Zum Beispiel: Farbe, Jahr, Marke \n",
    "\n",
    "* Einige von Features  sind **numerisch (oder quantitativ)** . Zum Beispiel: Preis, Steuer, Kraftstoffverbrauch"
   ]
  },
  {
   "cell_type": "markdown",
   "metadata": {},
   "source": [
    "**4.Wie sind die Daten formatiert?**\n",
    "\n",
    "Die gescrapten Daten enthalten Zeichenketten (String) und numerische (float64) Formate. Nur das Jahr wird als float64 gespeichert, die anderen Daten sind Strings. Daher sollten sie vor der Verwendung richtig vorbereitet und formatiert werden."
   ]
  },
  {
   "cell_type": "markdown",
   "metadata": {},
   "source": [
    "**5.Welche Schritte haben Sie unternommen, um die Daten zu bereinigen?**\n",
    "\n",
    "Wir haben diese Operationen durchgeführt, um die Daten zu bereinigen: \n",
    "* Datenbereinigung, wie z. B. Behandlung fehlender Werte \n",
    "* Behandlung von Ausreißern\n",
    "* Konvertierung von Datentypen\n",
    "* Behandlung von Inkonsistenzen"
   ]
  },
  {
   "cell_type": "markdown",
   "metadata": {},
   "source": [
    "**6.Gibt es Ausreißer, Duplikate oder fehlende Werte?**\n",
    "\n",
    "* Ausreißer sind Werte, die deutlich von der Mehrheit abweichen. Wir identifizierten und behandelten die Ausreißer in unserem Datensatz mithilfe des z-Scores.\n",
    "\n",
    "* Um doppelte Zeilen zu entfernen und sicherzustellen, dass es keine doppelten Zeilen gibt, haben wir die Methode **Pandas dataframe.drop_duplicates()** verwendet.\n",
    "\n",
    "* Um mit fehlenden Werten umzugehen, haben wir die Werte durch Imputation richtig aufgefüllt oder sie direkt gelöscht. "
   ]
  },
  {
   "cell_type": "markdown",
   "metadata": {},
   "source": [
    "**7.Gibt es Fehler im Datensatz?**\n",
    "\n",
    "Bei der Formatierung und Konvertierung der Daten mit der Methode replace() für Strings haben wir auch auf Fehler und Inkonsistenzen geprüft. Dank der ordnungsgemäß konfigurierten Website sind wir nicht auf falsche Daten getroffen."
   ]
  },
  {
   "cell_type": "markdown",
   "metadata": {},
   "source": [
    "**8.Sind die Daten konsistent?**\n",
    "\n",
    "Um die Konsistenz des Datensatzes zu bestimmen, haben wir verschiedene Aspekte des Datensatzes bewertet. Hier sind die Schritte, die wir zur Bewertung der Datenkonsistenz durchgeführt haben:\n",
    "\n",
    "***Einheitlichkeit der Datentypen:***\n",
    "\n",
    "Wir haben überprüft, ob die Datentypen innerhalb jeder Spalte konsistent sind. So haben wir zum Beispiel sichergestellt, dass alle Werte in der Spalte \"year\" numerisch sind und gültige Jahre darstellen.\n",
    "\n",
    "***Kategorische Werte:***\n",
    "\n",
    "Wir haben kategorische Variablen wie \"transmission\", \"fuelType\", and \"color\".  untersucht. Es wurde sichergestellt, dass die Kategorien konsistent sind und keine Abweichungen aufgrund von Rechtschreibfehlern oder Synonymen vorliegen.\n",
    "\n",
    "***Numerische Werte:***\n",
    "\n",
    "Bei quantitativen Merkmalen wie \"price\", \"mileage\" und \"fuelConsumption\" haben wir den Wertebereich untersucht. Wir haben auf Ausreißer geprüft, die auf Fehler oder Unstimmigkeiten hindeuten können.\n",
    "\n",
    "***Cross-Column Beziehungen:***\n",
    "\n",
    "Wir haben die Beziehungen zwischen den Spalten untersucht. So haben wir beispielsweise überprüft, ob das \"year\" eines Autos mit dem \"mileage\" konsistent ist, und ob das \"transmission\" mit dem \"fuelType\" zusammenpasst.\n",
    "\n",
    "***Fehlende Werte:***\n",
    "\n",
    "Wir haben geprüft, ob es konsistente Muster bei fehlenden Werten gibt. Fehlende Werte können auf Probleme bei der Datenerfassung oder Dateneingabe hinweisen.\n",
    "\n",
    "***Logische Konsistenz:***\n",
    "\n",
    "Wir haben die logische Konsistenz der Daten bewertet. Beispielsweise wurde es überprüft, ob die Steuerwerte mit dem Jahr des Fahrzeugs übereinstimmen."
   ]
  },
  {
   "cell_type": "markdown",
   "metadata": {},
   "source": [
    "**9.Welche Besonderheiten sind Ihnen aufgefallen?**\n",
    "*TODO*\n",
    "* Die Steuer für die meisten Firmenwagen beträgt 0£."
   ]
  },
  {
   "cell_type": "code",
   "execution_count": 58,
   "metadata": {},
   "outputs": [],
   "source": [
    "import numpy as np\n",
    "import seaborn as sns\n",
    "import matplotlib.pyplot as plt\n",
    "from sklearn import metrics\n",
    "import statsmodels.api as sm"
   ]
  },
  {
   "cell_type": "code",
   "execution_count": 61,
   "metadata": {},
   "outputs": [
    {
     "name": "stdout",
     "output_type": "stream",
     "text": [
      "<class 'pandas.core.frame.DataFrame'>\n",
      "RangeIndex: 37147 entries, 0 to 37146\n",
      "Data columns (total 11 columns):\n",
      " #   Column           Non-Null Count  Dtype  \n",
      "---  ------           --------------  -----  \n",
      " 0   brand            37147 non-null  object \n",
      " 1   model            37147 non-null  object \n",
      " 2   price            37147 non-null  object \n",
      " 3   year             37056 non-null  float64\n",
      " 4   transmission     37147 non-null  object \n",
      " 5   fuelConsumption  37147 non-null  object \n",
      " 6   tax              37147 non-null  object \n",
      " 7   mileage          37147 non-null  object \n",
      " 8   fuelType         37147 non-null  object \n",
      " 9   color            37147 non-null  object \n",
      " 10  variant          36549 non-null  object \n",
      "dtypes: float64(1), object(10)\n",
      "memory usage: 3.1+ MB\n"
     ]
    },
    {
     "data": {
      "text/plain": [
       "(37147, 11)"
      ]
     },
     "execution_count": 61,
     "metadata": {},
     "output_type": "execute_result"
    }
   ],
   "source": [
    "df= pd.read_csv('AllData.csv')\n",
    "df = df.drop('Unnamed: 0', axis=1)\n",
    "df.rename(columns = {'fueltype':'fuelType'}, inplace = True) \n",
    "df.info()\n",
    "df.shape"
   ]
  },
  {
   "cell_type": "code",
   "execution_count": 60,
   "metadata": {},
   "outputs": [
    {
     "data": {
      "text/html": [
       "<div>\n",
       "<style scoped>\n",
       "    .dataframe tbody tr th:only-of-type {\n",
       "        vertical-align: middle;\n",
       "    }\n",
       "\n",
       "    .dataframe tbody tr th {\n",
       "        vertical-align: top;\n",
       "    }\n",
       "\n",
       "    .dataframe thead th {\n",
       "        text-align: right;\n",
       "    }\n",
       "</style>\n",
       "<table border=\"1\" class=\"dataframe\">\n",
       "  <thead>\n",
       "    <tr style=\"text-align: right;\">\n",
       "      <th></th>\n",
       "      <th>brand</th>\n",
       "      <th>model</th>\n",
       "      <th>price</th>\n",
       "      <th>year</th>\n",
       "      <th>transmission</th>\n",
       "      <th>fuelConsumption</th>\n",
       "      <th>tax</th>\n",
       "      <th>mileage</th>\n",
       "      <th>fueltype</th>\n",
       "      <th>color</th>\n",
       "      <th>variant</th>\n",
       "    </tr>\n",
       "  </thead>\n",
       "  <tbody>\n",
       "    <tr>\n",
       "      <th>0</th>\n",
       "      <td>Toyota</td>\n",
       "      <td>Aygo</td>\n",
       "      <td>£20,430</td>\n",
       "      <td>2022.0</td>\n",
       "      <td>Automatic</td>\n",
       "      <td>56.5 mpg</td>\n",
       "      <td>Tax: £180</td>\n",
       "      <td>Mileage: 4,497</td>\n",
       "      <td>Petrol</td>\n",
       "      <td>beige</td>\n",
       "      <td>o X 1.0 VVT-i Exclusive 5dr Auto</td>\n",
       "    </tr>\n",
       "    <tr>\n",
       "      <th>1</th>\n",
       "      <td>Toyota</td>\n",
       "      <td>Aygo</td>\n",
       "      <td>£17,998</td>\n",
       "      <td>2023.0</td>\n",
       "      <td>Automatic</td>\n",
       "      <td>56.5 mpg</td>\n",
       "      <td>Tax: £180</td>\n",
       "      <td>Mileage: 2,345</td>\n",
       "      <td>Petrol</td>\n",
       "      <td>beige</td>\n",
       "      <td>o X 1.0 VVT-i Edge 5dr Auto</td>\n",
       "    </tr>\n",
       "    <tr>\n",
       "      <th>2</th>\n",
       "      <td>Toyota</td>\n",
       "      <td>Aygo</td>\n",
       "      <td>£14,225</td>\n",
       "      <td>2022.0</td>\n",
       "      <td>Manual</td>\n",
       "      <td>58.9 mpg</td>\n",
       "      <td>Tax: £180</td>\n",
       "      <td>Mileage: 36,729</td>\n",
       "      <td>Petrol</td>\n",
       "      <td>beige</td>\n",
       "      <td>o X 1.0 VVT-i Edge 5dr</td>\n",
       "    </tr>\n",
       "    <tr>\n",
       "      <th>3</th>\n",
       "      <td>Toyota</td>\n",
       "      <td>Aygo</td>\n",
       "      <td>£18,431</td>\n",
       "      <td>2023.0</td>\n",
       "      <td>Automatic</td>\n",
       "      <td>56.5 mpg</td>\n",
       "      <td>Tax: £180</td>\n",
       "      <td>Mileage: 3,620</td>\n",
       "      <td>Petrol</td>\n",
       "      <td>beige</td>\n",
       "      <td>o X 1.0 VVT-i Edge 5dr Auto</td>\n",
       "    </tr>\n",
       "    <tr>\n",
       "      <th>4</th>\n",
       "      <td>Toyota</td>\n",
       "      <td>Aygo</td>\n",
       "      <td>£17,159</td>\n",
       "      <td>2022.0</td>\n",
       "      <td>Manual</td>\n",
       "      <td>57.7 mpg</td>\n",
       "      <td>Tax: £180</td>\n",
       "      <td>Mileage: 4,000</td>\n",
       "      <td>Petrol</td>\n",
       "      <td>beige</td>\n",
       "      <td>o X 1.0 VVT-i Exclusive 5dr</td>\n",
       "    </tr>\n",
       "  </tbody>\n",
       "</table>\n",
       "</div>"
      ],
      "text/plain": [
       "    brand  model    price    year transmission fuelConsumption        tax  \\\n",
       "0  Toyota   Aygo  £20,430  2022.0    Automatic        56.5 mpg  Tax: £180   \n",
       "1  Toyota   Aygo  £17,998  2023.0    Automatic        56.5 mpg  Tax: £180   \n",
       "2  Toyota   Aygo  £14,225  2022.0       Manual        58.9 mpg  Tax: £180   \n",
       "3  Toyota   Aygo  £18,431  2023.0    Automatic        56.5 mpg  Tax: £180   \n",
       "4  Toyota   Aygo  £17,159  2022.0       Manual        57.7 mpg  Tax: £180   \n",
       "\n",
       "           mileage fueltype  color                           variant  \n",
       "0   Mileage: 4,497   Petrol  beige  o X 1.0 VVT-i Exclusive 5dr Auto  \n",
       "1   Mileage: 2,345   Petrol  beige       o X 1.0 VVT-i Edge 5dr Auto  \n",
       "2  Mileage: 36,729   Petrol  beige            o X 1.0 VVT-i Edge 5dr  \n",
       "3   Mileage: 3,620   Petrol  beige       o X 1.0 VVT-i Edge 5dr Auto  \n",
       "4   Mileage: 4,000   Petrol  beige       o X 1.0 VVT-i Exclusive 5dr  "
      ]
     },
     "execution_count": 60,
     "metadata": {},
     "output_type": "execute_result"
    }
   ],
   "source": [
    "df.head()"
   ]
  },
  {
   "cell_type": "code",
   "execution_count": null,
   "metadata": {},
   "outputs": [],
   "source": [
    "#Formatting the price data / Bereinigung der Preisdaten\n",
    "df['price'] = df['price'].str.replace(',','')\n",
    "df['price'] = df['price'].str.replace('£','')\n",
    "df['price'] = pd.to_numeric(df['price'])\n",
    "#Formatting the year data \n",
    "df[\"year\"].dropna(inplace=True)\n",
    "df['year'] = df['year'].astype('int', errors='ignore')\n",
    "#Formatting the fuelConsumption data \n",
    "df['fuelConsumption'] = df['fuelConsumption'].str.replace(' mpg','')\n",
    "df['fuelConsumption'] = pd.to_numeric(df['fuelConsumption'])\n",
    "#Formatting the Tax data \n",
    "df['tax'] = df['tax'].str.replace('Tax: n/a','')\n",
    "df['tax'] = df['tax'].str.replace('Tax: £','')\n",
    "df['tax'] = pd.to_numeric(df['tax'])\n",
    "#Formatting the mileage data \n",
    "df['mileage'] = df['mileage'].str.replace(',','')\n",
    "df['mileage'] = df['mileage'].str.replace('Mileage: ','')\n",
    "#df['mileage'] = df['mileage'].str.replace('Mileage: Unknown','')\n",
    "df['mileage'] = df['mileage'].str.replace('Unknown','')\n",
    "df['mileage'] = pd.to_numeric(df['mileage'])"
   ]
  },
  {
   "cell_type": "code",
   "execution_count": null,
   "metadata": {},
   "outputs": [
    {
     "name": "stdout",
     "output_type": "stream",
     "text": [
      "<class 'pandas.core.frame.DataFrame'>\n",
      "RangeIndex: 37147 entries, 0 to 37146\n",
      "Data columns (total 12 columns):\n",
      " #   Column           Non-Null Count  Dtype  \n",
      "---  ------           --------------  -----  \n",
      " 0   Unnamed: 0       37147 non-null  int64  \n",
      " 1   brand            37147 non-null  object \n",
      " 2   model            37147 non-null  object \n",
      " 3   price            37147 non-null  int64  \n",
      " 4   year             37147 non-null  float64\n",
      " 5   transmission     37147 non-null  object \n",
      " 6   fuelConsumption  37147 non-null  float64\n",
      " 7   tax              37147 non-null  float64\n",
      " 8   mileage          37147 non-null  float64\n",
      " 9   fueltype         37147 non-null  object \n",
      " 10  color            37147 non-null  object \n",
      " 11  variant          37147 non-null  object \n",
      "dtypes: float64(4), int64(2), object(6)\n",
      "memory usage: 3.4+ MB\n"
     ]
    },
    {
     "data": {
      "text/plain": [
       "(37147, 12)"
      ]
     },
     "execution_count": 48,
     "metadata": {},
     "output_type": "execute_result"
    }
   ],
   "source": [
    "df.info()\n",
    "df.shape"
   ]
  },
  {
   "cell_type": "code",
   "execution_count": null,
   "metadata": {},
   "outputs": [
    {
     "data": {
      "text/html": [
       "<div>\n",
       "<style scoped>\n",
       "    .dataframe tbody tr th:only-of-type {\n",
       "        vertical-align: middle;\n",
       "    }\n",
       "\n",
       "    .dataframe tbody tr th {\n",
       "        vertical-align: top;\n",
       "    }\n",
       "\n",
       "    .dataframe thead th {\n",
       "        text-align: right;\n",
       "    }\n",
       "</style>\n",
       "<table border=\"1\" class=\"dataframe\">\n",
       "  <thead>\n",
       "    <tr style=\"text-align: right;\">\n",
       "      <th></th>\n",
       "      <th>Unnamed: 0</th>\n",
       "      <th>brand</th>\n",
       "      <th>model</th>\n",
       "      <th>price</th>\n",
       "      <th>year</th>\n",
       "      <th>transmission</th>\n",
       "      <th>fuelConsumption</th>\n",
       "      <th>tax</th>\n",
       "      <th>mileage</th>\n",
       "      <th>fueltype</th>\n",
       "      <th>color</th>\n",
       "      <th>variant</th>\n",
       "    </tr>\n",
       "  </thead>\n",
       "  <tbody>\n",
       "    <tr>\n",
       "      <th>0</th>\n",
       "      <td>-1</td>\n",
       "      <td>Toyota</td>\n",
       "      <td>Aygo</td>\n",
       "      <td>20430</td>\n",
       "      <td>2022.0</td>\n",
       "      <td>Automatic</td>\n",
       "      <td>56.5</td>\n",
       "      <td>180.0</td>\n",
       "      <td>4497.0</td>\n",
       "      <td>Petrol</td>\n",
       "      <td>beige</td>\n",
       "      <td>o X 1.0 VVT-i Exclusive 5dr Auto</td>\n",
       "    </tr>\n",
       "    <tr>\n",
       "      <th>1</th>\n",
       "      <td>0</td>\n",
       "      <td>Toyota</td>\n",
       "      <td>Aygo</td>\n",
       "      <td>17998</td>\n",
       "      <td>2023.0</td>\n",
       "      <td>Automatic</td>\n",
       "      <td>56.5</td>\n",
       "      <td>180.0</td>\n",
       "      <td>2345.0</td>\n",
       "      <td>Petrol</td>\n",
       "      <td>beige</td>\n",
       "      <td>o X 1.0 VVT-i Edge 5dr Auto</td>\n",
       "    </tr>\n",
       "    <tr>\n",
       "      <th>2</th>\n",
       "      <td>1</td>\n",
       "      <td>Toyota</td>\n",
       "      <td>Aygo</td>\n",
       "      <td>14225</td>\n",
       "      <td>2022.0</td>\n",
       "      <td>Manual</td>\n",
       "      <td>58.9</td>\n",
       "      <td>180.0</td>\n",
       "      <td>36729.0</td>\n",
       "      <td>Petrol</td>\n",
       "      <td>beige</td>\n",
       "      <td>o X 1.0 VVT-i Edge 5dr</td>\n",
       "    </tr>\n",
       "    <tr>\n",
       "      <th>3</th>\n",
       "      <td>2</td>\n",
       "      <td>Toyota</td>\n",
       "      <td>Aygo</td>\n",
       "      <td>18431</td>\n",
       "      <td>2023.0</td>\n",
       "      <td>Automatic</td>\n",
       "      <td>56.5</td>\n",
       "      <td>180.0</td>\n",
       "      <td>3620.0</td>\n",
       "      <td>Petrol</td>\n",
       "      <td>beige</td>\n",
       "      <td>o X 1.0 VVT-i Edge 5dr Auto</td>\n",
       "    </tr>\n",
       "    <tr>\n",
       "      <th>4</th>\n",
       "      <td>3</td>\n",
       "      <td>Toyota</td>\n",
       "      <td>Aygo</td>\n",
       "      <td>17159</td>\n",
       "      <td>2022.0</td>\n",
       "      <td>Manual</td>\n",
       "      <td>57.7</td>\n",
       "      <td>180.0</td>\n",
       "      <td>4000.0</td>\n",
       "      <td>Petrol</td>\n",
       "      <td>beige</td>\n",
       "      <td>o X 1.0 VVT-i Exclusive 5dr</td>\n",
       "    </tr>\n",
       "  </tbody>\n",
       "</table>\n",
       "</div>"
      ],
      "text/plain": [
       "   Unnamed: 0   brand  model  price    year transmission  fuelConsumption  \\\n",
       "0          -1  Toyota   Aygo  20430  2022.0    Automatic             56.5   \n",
       "1           0  Toyota   Aygo  17998  2023.0    Automatic             56.5   \n",
       "2           1  Toyota   Aygo  14225  2022.0       Manual             58.9   \n",
       "3           2  Toyota   Aygo  18431  2023.0    Automatic             56.5   \n",
       "4           3  Toyota   Aygo  17159  2022.0       Manual             57.7   \n",
       "\n",
       "     tax  mileage fueltype  color                           variant  \n",
       "0  180.0   4497.0   Petrol  beige  o X 1.0 VVT-i Exclusive 5dr Auto  \n",
       "1  180.0   2345.0   Petrol  beige       o X 1.0 VVT-i Edge 5dr Auto  \n",
       "2  180.0  36729.0   Petrol  beige            o X 1.0 VVT-i Edge 5dr  \n",
       "3  180.0   3620.0   Petrol  beige       o X 1.0 VVT-i Edge 5dr Auto  \n",
       "4  180.0   4000.0   Petrol  beige       o X 1.0 VVT-i Exclusive 5dr  "
      ]
     },
     "execution_count": 49,
     "metadata": {},
     "output_type": "execute_result"
    }
   ],
   "source": [
    "df.head()"
   ]
  },
  {
   "cell_type": "code",
   "execution_count": null,
   "metadata": {},
   "outputs": [
    {
     "data": {
      "text/plain": [
       "Unnamed: 0           0\n",
       "brand                0\n",
       "model                0\n",
       "price                0\n",
       "year                91\n",
       "transmission         0\n",
       "fuelConsumption      0\n",
       "tax                501\n",
       "mileage             11\n",
       "fueltype             0\n",
       "color                0\n",
       "variant            598\n",
       "dtype: int64"
      ]
     },
     "execution_count": 40,
     "metadata": {},
     "output_type": "execute_result"
    }
   ],
   "source": [
    "pd.isnull(df).sum()"
   ]
  },
  {
   "cell_type": "code",
   "execution_count": null,
   "metadata": {},
   "outputs": [],
   "source": [
    "# Behandlung von fehlenden Werte\n",
    "df[\"tax\"].fillna(0, inplace=True)\n",
    "df[\"mileage\"].fillna(df[\"mileage\"].mean(), inplace=True)\n",
    "df[\"year\"].fillna(df[\"year\"].mean(), inplace=True)\n",
    "df[\"variant\"].fillna(\"unknown variant\", inplace=True)"
   ]
  },
  {
   "cell_type": "code",
   "execution_count": null,
   "metadata": {},
   "outputs": [
    {
     "data": {
      "text/plain": [
       "Unnamed: 0         0\n",
       "brand              0\n",
       "model              0\n",
       "price              0\n",
       "year               0\n",
       "transmission       0\n",
       "fuelConsumption    0\n",
       "tax                0\n",
       "mileage            0\n",
       "fueltype           0\n",
       "color              0\n",
       "variant            0\n",
       "dtype: int64"
      ]
     },
     "execution_count": 42,
     "metadata": {},
     "output_type": "execute_result"
    }
   ],
   "source": [
    "pd.isnull(df).sum()"
   ]
  },
  {
   "cell_type": "code",
   "execution_count": 62,
   "metadata": {},
   "outputs": [
    {
     "name": "stdout",
     "output_type": "stream",
     "text": [
      "<class 'pandas.core.frame.DataFrame'>\n",
      "RangeIndex: 37147 entries, 0 to 37146\n",
      "Data columns (total 11 columns):\n",
      " #   Column           Non-Null Count  Dtype  \n",
      "---  ------           --------------  -----  \n",
      " 0   brand            37147 non-null  object \n",
      " 1   model            37147 non-null  object \n",
      " 2   price            37147 non-null  object \n",
      " 3   year             37056 non-null  float64\n",
      " 4   transmission     37147 non-null  object \n",
      " 5   fuelConsumption  37147 non-null  object \n",
      " 6   tax              37147 non-null  object \n",
      " 7   mileage          37147 non-null  object \n",
      " 8   fuelType         37147 non-null  object \n",
      " 9   color            37147 non-null  object \n",
      " 10  variant          36549 non-null  object \n",
      "dtypes: float64(1), object(10)\n",
      "memory usage: 3.1+ MB\n"
     ]
    },
    {
     "data": {
      "text/plain": [
       "(37147, 11)"
      ]
     },
     "execution_count": 62,
     "metadata": {},
     "output_type": "execute_result"
    }
   ],
   "source": [
    "#Behandlung der Duplikate\n",
    "display(df.drop_duplicates())\n",
    "df.info()\n",
    "df.shape"
   ]
  }
 ],
 "metadata": {
  "kernelspec": {
   "display_name": "Python 3",
   "language": "python",
   "name": "python3"
  },
  "language_info": {
   "codemirror_mode": {
    "name": "ipython",
    "version": 3
   },
   "file_extension": ".py",
   "mimetype": "text/x-python",
   "name": "python",
   "nbconvert_exporter": "python",
   "pygments_lexer": "ipython3",
   "version": "3.11.5"
  }
 },
 "nbformat": 4,
 "nbformat_minor": 2
}
