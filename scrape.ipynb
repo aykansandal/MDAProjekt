{
 "cells": [
  {
   "cell_type": "code",
   "execution_count": 53,
   "metadata": {},
   "outputs": [],
   "source": [
    "from bs4 import BeautifulSoup\n",
    "import requests\n",
    "import pandas as pd\n",
    "headers = ['brand','model', 'price', 'year', 'transmission', 'fuelConsumption', 'tax', 'mileage', 'fueltype', 'color', 'variant']\n",
    "df = pd.DataFrame(columns = headers)\n"
   ]
  },
  {
   "cell_type": "code",
   "execution_count": 54,
   "metadata": {},
   "outputs": [],
   "source": [
    "colors = ['beige', 'black', 'blue', 'bronze', 'brown', 'gold', 'green', 'grey', 'orange', 'purple', 'red', 'silver', 'turquoise', 'white', 'yellow']\n",
    "cars = ['toyota', 'volvo', 'audi', 'bmw', 'citroen', 'ford', 'honda', 'hyundai', 'kia', 'nissan']\n",
    "url = \"https://www.exchangeandmart.co.uk/used-cars-for-sale/\""
   ]
  },
  {
   "cell_type": "code",
   "execution_count": 55,
   "metadata": {},
   "outputs": [],
   "source": [
    "for color in colors:\n",
    "    for pageNumber in range(1,100):\n",
    "        for car in cars:\n",
    "            currentUrl = url + car + \"/any-distance-from-se15-1la/colour-\" + color + '/page' + str(pageNumber)\n",
    "            page = requests.get(currentUrl)\n",
    "            soup = BeautifulSoup(page.text, 'html')\n",
    "            items = soup.find_all('div', attrs={\"class\" : \"result-item\"})\n",
    "\n",
    "            if items[0].find('span', attrs={\"class\" : \"ttl_mk\"}) is None:\n",
    "                break\n",
    "            \n",
    "            for item in items:\n",
    "                brand = item.find('span', attrs={\"class\" : \"ttl_mk\"}).text\n",
    "                model = item.find('span', attrs={\"class\" : \"ttl_md\"}).text\n",
    "                price = item.find('span', attrs={\"class\" : \"price--primary\"}).text\n",
    "                variant = item.find('div', attrs={\"class\" : \"result-item__variant\"}).text\n",
    "                keyDetails = item.find_all('p', attrs={\"class\" : \"key-details__item\"})\n",
    "                if(len(keyDetails) < 6):\n",
    "                    continue\n",
    "                year = keyDetails[0].text\n",
    "                transmission = keyDetails[1].text\n",
    "                fuelConsumption = keyDetails[2].text\n",
    "                tax = keyDetails[3].text\n",
    "                mileage = keyDetails[4].text\n",
    "                fueltype = keyDetails[5].text\n",
    "                data = [brand, model, price, year, transmission, fuelConsumption, tax, mileage, fueltype, color, variant]\n",
    "                df.loc[len(df)-1] = data"
   ]
  },
  {
   "cell_type": "code",
   "execution_count": 57,
   "metadata": {},
   "outputs": [],
   "source": [
    "df.to_csv('AllData.csv')\n",
    "groupedDFs = [v for k, v in df.groupby('brand')]\n",
    "for brandDF in groupedDFs:\n",
    "    brandDF.to_csv(''+brandDF.brand.iloc[0]+'.csv') "
   ]
  }
 ],
 "metadata": {
  "kernelspec": {
   "display_name": "Python 3",
   "language": "python",
   "name": "python3"
  },
  "language_info": {
   "codemirror_mode": {
    "name": "ipython",
    "version": 3
   },
   "file_extension": ".py",
   "mimetype": "text/x-python",
   "name": "python",
   "nbconvert_exporter": "python",
   "pygments_lexer": "ipython3",
   "version": "3.10.0"
  }
 },
 "nbformat": 4,
 "nbformat_minor": 2
}
