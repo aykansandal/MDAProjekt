{
 "cells": [
  {
   "cell_type": "code",
   "execution_count": 7,
   "metadata": {},
   "outputs": [],
   "source": [
    "PAGE_COUNT = 70"
   ]
  },
  {
   "cell_type": "code",
   "execution_count": 8,
   "metadata": {},
   "outputs": [],
   "source": [
    "from bs4 import BeautifulSoup\n",
    "import requests\n",
    "import pandas as pd\n",
    "\n",
    "headers = ['brand','price','mileage', 'transmission', 'year', 'fuel', 'performance', 'emission']\n",
    "associatedHeaders = list(enumerate(headers))\n",
    "df = pd.DataFrame(columns = headers)"
   ]
  },
  {
   "cell_type": "code",
   "execution_count": 9,
   "metadata": {},
   "outputs": [],
   "source": [
    "\n",
    "for i in range(1, PAGE_COUNT):\n",
    "\n",
    "    url = 'https://www.autoscout24.de/lst?atype=C&cy=D&damaged_listing=exclude&desc=0&ocs_listing=include&page=' + str(i) + '&powertype=kw&search_id=iterrjf022&sort=standard&source=listpage_pagination&ustate=N%2CU'\n",
    "    page = requests.get(url)\n",
    "    soup = BeautifulSoup(page.text, 'html')\n",
    "\n",
    "    items = soup.find_all('article')\n",
    "    for item in items:\n",
    "        ItemBrand = item.find('h2').text.split(' ')[0]\n",
    "        if item.find('p', attrs={\"data-testid\":\"regular-price\"}) is not None:\n",
    "            ItemPrice = item.find('p', attrs={\"data-testid\":\"regular-price\"}).text.replace('.', '').split(',')[0].split(' ')[1]\n",
    "            data = []\n",
    "            data.append(ItemBrand)\n",
    "            data.append(ItemPrice)\n",
    "            elements = item.find_all(attrs={\"class\": \"VehicleDetailTable_item__4n35N\"})\n",
    "            for row in range(0,6):\n",
    "                data.append(elements[row].text)\n",
    "            df.loc[len(df.index)] = data\n",
    "df.to_csv('all.csv')\n",
    "groupedDFs = [v for k, v in df.groupby('brand')]"
   ]
  },
  {
   "cell_type": "code",
   "execution_count": 10,
   "metadata": {},
   "outputs": [],
   "source": [
    "for brandDF in groupedDFs:\n",
    "    brandDF.to_csv(''+brandDF.brand.iloc[0]+'.csv')"
   ]
  }
 ],
 "metadata": {
  "kernelspec": {
   "display_name": "mda",
   "language": "python",
   "name": "python3"
  },
  "language_info": {
   "codemirror_mode": {
    "name": "ipython",
    "version": 3
   },
   "file_extension": ".py",
   "mimetype": "text/x-python",
   "name": "python",
   "nbconvert_exporter": "python",
   "pygments_lexer": "ipython3",
   "version": "3.10.0"
  }
 },
 "nbformat": 4,
 "nbformat_minor": 2
}
