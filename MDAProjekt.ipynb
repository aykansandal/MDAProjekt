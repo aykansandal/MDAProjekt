{
 "cells": [
  {
   "cell_type": "code",
   "execution_count": null,
   "metadata": {},
   "outputs": [],
   "source": [
    "PAGE_COUNT = 3"
   ]
  },
  {
   "cell_type": "code",
   "execution_count": 3,
   "metadata": {},
   "outputs": [],
   "source": [
    "from bs4 import BeautifulSoup\n",
    "import requests, csv\n",
    "\n",
    "file = open('export_data.csv', 'w', newline='')\n",
    "writer = csv.writer(file)\n",
    "headers = ['brand','price','mileage', 'transmission', 'year', 'fuel', 'performance', 'emission']\n",
    "writer.writerow(headers)"
   ]
  },
  {
   "cell_type": "code",
   "execution_count": null,
   "metadata": {},
   "outputs": [],
   "source": [
    "for i in range(1, PAGE_COUNT):\n",
    "    brand = 'brand'\n",
    "    price = 'price'\n",
    "    mileage = 'mileage'\n",
    "    transmission = 'transmission'\n",
    "    year = 'year'\n",
    "    fuel = 'fuel'\n",
    "    performance = 'performance'\n",
    "    emission = 'emission'\n",
    "    print(i)\n",
    "\n",
    "    url = 'https://www.autoscout24.de/lst?atype=C&cy=D&damaged_listing=exclude&desc=0&ocs_listing=include&page=' + str(i) + '&powertype=kw&search_id=iterrjf022&sort=standard&source=listpage_pagination&ustate=N%2CU'\n",
    "    page = requests.get(url)\n",
    "    soup = BeautifulSoup(page.text, 'html')\n",
    "\n",
    "    prices = []\n",
    "    for s in soup.find_all('p', attrs={\"data-testid\": \"regular-price\"}):\n",
    "        num = s.text.replace('.', '').split(',')[0].split(' ')[1]\n",
    "        prices.append(int(num))\n",
    "    \n",
    "    carBrands = []\n",
    "    for s in soup.find_all('h2'):\n",
    "        carBrands.append(s.text.split(' ')[0])\n",
    "\n",
    "    print('carBrands: ', carBrands)\n",
    "    print('prices: ', prices)\n",
    "\n",
    "    j = 0\n",
    "    carAttributes = soup.find_all(attrs={\"class\": \"VehicleDetailTable_item__4n35N\"})\n",
    "    for attr in carAttributes:\n",
    "        if j % 6 == 0:\n",
    "            if j > 0:\n",
    "                brand = carBrands[(j//6)-1]\n",
    "                price = prices[(j//6)-1]\n",
    "            headers = ([brand, price, mileage, transmission, year, fuel, performance, emission])\n",
    "            writer.writerow(headers)\n",
    "            print(headers)\n",
    "            mileage = attr.text\n",
    "        elif j % 6 == 1:\n",
    "            transmission = attr.text\n",
    "        elif j % 6 == 2:\n",
    "            year = attr.text\n",
    "        elif j % 6 == 3:\n",
    "            fuel = attr.text\n",
    "        elif j % 6 == 4:\n",
    "            performance = attr.text\n",
    "        elif j % 6 == 5:\n",
    "            emission = attr.text\n",
    "        j += 1"
   ]
  }
 ],
 "metadata": {
  "kernelspec": {
   "display_name": "mda",
   "language": "python",
   "name": "python3"
  },
  "language_info": {
   "codemirror_mode": {
    "name": "ipython",
    "version": 3
   },
   "file_extension": ".py",
   "mimetype": "text/x-python",
   "name": "python",
   "nbconvert_exporter": "python",
   "pygments_lexer": "ipython3",
   "version": "3.11.5"
  }
 },
 "nbformat": 4,
 "nbformat_minor": 2
}
